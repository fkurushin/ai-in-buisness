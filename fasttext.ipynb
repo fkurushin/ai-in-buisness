{
 "cells": [
  {
   "cell_type": "code",
   "execution_count": 4,
   "metadata": {},
   "outputs": [],
   "source": [
    "import fasttext"
   ]
  },
  {
   "cell_type": "code",
   "execution_count": 59,
   "metadata": {},
   "outputs": [
    {
     "name": "stdout",
     "output_type": "stream",
     "text": [
      "[nltk_data] Downloading package averaged_perceptron_tagger to\n",
      "[nltk_data]     /Users/fedorkurusin/nltk_data...\n",
      "[nltk_data]   Package averaged_perceptron_tagger is already up-to-\n",
      "[nltk_data]       date!\n",
      "[nltk_data] Downloading package wordnet to\n",
      "[nltk_data]     /Users/fedorkurusin/nltk_data...\n",
      "[nltk_data]   Package wordnet is already up-to-date!\n",
      "\n",
      "shape: (50425, 2)\n",
      "\n",
      "percrentiles 2%: 5.0, 97%: 368.0\n",
      "\n",
      "100%|████████████████████████████████████| 47260/47260 [01:21<00:00, 582.96it/s]\n",
      "\n",
      "End of processing shape: (26137, 2)\n",
      "\n",
      "write files for fasttext training in data/train.txt and data/test.txt\n",
      "\n"
     ]
    }
   ],
   "source": [
    "!python3 preparation.py"
   ]
  },
  {
   "cell_type": "code",
   "execution_count": 7,
   "metadata": {},
   "outputs": [
    {
     "name": "stdout",
     "output_type": "stream",
     "text": [
      "sample_size=8626\n",
      "precision=0.4\n",
      "recall=0.4\n"
     ]
    },
    {
     "name": "stderr",
     "output_type": "stream",
     "text": [
      "Read 0M words\n",
      "Number of words:  49052\n",
      "Number of labels: 4\n",
      "Progress: 100.0% words/sec/thread: 3243061 lr:  0.000000 avg.loss:  1.328646 ETA:   0h 0m 0s\n"
     ]
    }
   ],
   "source": [
    "model1 = fasttext.train_supervised('data/train.txt')\n",
    "\n",
    "def print_results(sample_size, precision, recall):\n",
    "    precision   = round(precision, 2)\n",
    "    recall      = round(recall, 2)\n",
    "    print(f'{sample_size=}')\n",
    "    print(f'{precision=}')\n",
    "    print(f'{recall=}')\n",
    "\n",
    "print_results(*model1.test('data/test.txt'))"
   ]
  },
  {
   "cell_type": "code",
   "execution_count": 9,
   "metadata": {},
   "outputs": [
    {
     "name": "stderr",
     "output_type": "stream",
     "text": [
      "Read 0M words\n",
      "Number of words:  49054\n",
      "Number of labels: 4\n",
      "Progress:  34.5% words/sec/thread: 5349583 lr:  0.065538 avg.loss:  0.855155 ETA:   0h 0m 0s"
     ]
    },
    {
     "name": "stdout",
     "output_type": "stream",
     "text": [
      "sample_size=6809\n",
      "precision=0.93\n",
      "recall=0.93\n"
     ]
    },
    {
     "name": "stderr",
     "output_type": "stream",
     "text": [
      "Progress: 100.0% words/sec/thread: 5339797 lr:  0.000000 avg.loss:  0.523456 ETA:   0h 0m 0s\n"
     ]
    }
   ],
   "source": [
    "model2 = fasttext.train_supervised('data/train.txt', epoch=25)\n",
    "\n",
    "print_results(*model2.test('data/test.txt'))"
   ]
  },
  {
   "cell_type": "code",
   "execution_count": 24,
   "metadata": {},
   "outputs": [
    {
     "name": "stdout",
     "output_type": "stream",
     "text": [
      "sample_size=8626\n",
      "precision=0.95\n",
      "recall=0.95\n"
     ]
    }
   ],
   "source": [
    "print_results(*model2.test('data/train.txt'))"
   ]
  },
  {
   "cell_type": "code",
   "execution_count": 5,
   "metadata": {},
   "outputs": [
    {
     "name": "stderr",
     "output_type": "stream",
     "text": [
      "Read 0M words\n",
      "Number of words:  49054\n",
      "Number of labels: 4\n",
      "Progress:  88.0% words/sec/thread: 5621662 lr:  0.119709 avg.loss:  0.529208 ETA:   0h 0m 0s"
     ]
    },
    {
     "name": "stdout",
     "output_type": "stream",
     "text": [
      "sample_size=6809\n",
      "precision=0.95\n",
      "recall=0.95\n"
     ]
    },
    {
     "name": "stderr",
     "output_type": "stream",
     "text": [
      "Progress: 100.0% words/sec/thread: 3247825 lr:  0.000000 avg.loss:  0.493704 ETA:   0h 0m 0s\n"
     ]
    }
   ],
   "source": [
    "model3 = fasttext.train_supervised('data/train.txt', epoch=10, lr=1.0)\n",
    "\n",
    "print_results(*model3.test('data/test.txt'))"
   ]
  },
  {
   "cell_type": "code",
   "execution_count": 6,
   "metadata": {},
   "outputs": [
    {
     "name": "stderr",
     "output_type": "stream",
     "text": [
      "Read 0M words\n",
      "Number of words:  49054\n",
      "Number of labels: 4\n",
      "Progress:  87.4% words/sec/thread: 2828153 lr:  0.126280 avg.loss:  0.334200 ETA:   0h 0m 0s"
     ]
    },
    {
     "name": "stdout",
     "output_type": "stream",
     "text": [
      "sample_size=6809\n",
      "precision=0.99\n",
      "recall=0.99\n"
     ]
    },
    {
     "name": "stderr",
     "output_type": "stream",
     "text": [
      "Progress: 100.0% words/sec/thread: 2148141 lr:  0.000000 avg.loss:  0.297725 ETA:   0h 0m 0s\n"
     ]
    }
   ],
   "source": [
    "model4 = fasttext.train_supervised('data/train.txt', epoch=10, lr=1.0, wordNgrams=2)\n",
    "\n",
    "print_results(*model4.test('data/test.txt'))"
   ]
  },
  {
   "cell_type": "code",
   "execution_count": 9,
   "metadata": {},
   "outputs": [
    {
     "name": "stderr",
     "output_type": "stream",
     "text": [
      "Progress: 100.0% Trials:  205 Best score:  1.000000 ETA:   0h 0m 0s\n",
      "Training again with best arguments\n",
      "Read 0M words\n",
      "Number of words:  49054\n",
      "Number of labels: 4\n",
      "Progress:  82.9% words/sec/thread: 6560391 lr:  0.101797 avg.loss:  0.066278 ETA:   0h 0m 0s"
     ]
    },
    {
     "name": "stdout",
     "output_type": "stream",
     "text": [
      "sample_size=6809\n",
      "precision=1.0\n",
      "recall=1.0\n"
     ]
    },
    {
     "name": "stderr",
     "output_type": "stream",
     "text": [
      "Progress: 100.0% words/sec/thread: 6343108 lr:  0.000000 avg.loss:  0.055880 ETA:   0h 0m 0s\n"
     ]
    }
   ],
   "source": [
    "model5 = fasttext.train_supervised('data/train.txt', autotuneValidationFile='data/test.txt')\n",
    "\n",
    "print_results(*model5.test('data/test.txt'))"
   ]
  },
  {
   "cell_type": "code",
   "execution_count": 16,
   "metadata": {},
   "outputs": [
    {
     "name": "stdout",
     "output_type": "stream",
     "text": [
      "sample_size=6809\n",
      "precision=1.0\n",
      "recall=0.97\n"
     ]
    }
   ],
   "source": [
    "print_results(*model5.test('data/test.txt', threshold=0.99))"
   ]
  },
  {
   "cell_type": "code",
   "execution_count": 17,
   "metadata": {},
   "outputs": [],
   "source": [
    "model5.save_model('optimized.model')"
   ]
  },
  {
   "cell_type": "code",
   "execution_count": 10,
   "metadata": {},
   "outputs": [],
   "source": [
    "# model6 = fasttext.train_supervised('data/train.txt', autotuneValidationFile='data/test.txt', autotuneMetric=\"f1:__label__household\")\n",
    "\n",
    "# print_results(*model6.test('data/test.txt'))"
   ]
  },
  {
   "cell_type": "code",
   "execution_count": 26,
   "metadata": {},
   "outputs": [
    {
     "name": "stdout",
     "output_type": "stream",
     "text": [
      "Empty input or output path.\n",
      "\n",
      "The following arguments are mandatory:\n",
      "  -input              training file path\n",
      "  -output             output file path\n",
      "\n",
      "The following arguments are optional:\n",
      "  -verbose            verbosity level [2]\n",
      "\n",
      "The following arguments for the dictionary are optional:\n",
      "  -minCount           minimal number of word occurences [1]\n",
      "  -minCountLabel      minimal number of label occurences [0]\n",
      "  -wordNgrams         max length of word ngram [1]\n",
      "  -bucket             number of buckets [2000000]\n",
      "  -minn               min length of char ngram [0]\n",
      "  -maxn               max length of char ngram [0]\n",
      "  -t                  sampling threshold [0.0001]\n",
      "  -label              labels prefix [__label__]\n",
      "\n",
      "The following arguments for training are optional:\n",
      "  -lr                 learning rate [0.1]\n",
      "  -lrUpdateRate       change the rate of updates for the learning rate [100]\n",
      "  -dim                size of word vectors [100]\n",
      "  -ws                 size of the context window [5]\n",
      "  -epoch              number of epochs [5]\n",
      "  -neg                number of negatives sampled [5]\n",
      "  -loss               loss function {ns, hs, softmax, one-vs-all} [softmax]\n",
      "  -thread             number of threads (set to 1 to ensure reproducible results) [12]\n",
      "  -pretrainedVectors  pretrained word vectors for supervised learning []\n",
      "  -saveOutput         whether output params should be saved [false]\n",
      "  -seed               random generator seed  [0]\n",
      "\n",
      "The following arguments are for autotune:\n",
      "  -autotune-validation            validation file to be used for evaluation\n",
      "  -autotune-metric                metric objective {f1, f1:labelname} [f1]\n",
      "  -autotune-predictions           number of predictions used for evaluation  [1]\n",
      "  -autotune-duration              maximum duration in seconds [300]\n",
      "  -autotune-modelsize             constraint model file size [] (empty = do not quantize)\n",
      "\n",
      "The following arguments for quantization are optional:\n",
      "  -cutoff             number of words and ngrams to retain [0]\n",
      "  -retrain            whether embeddings are finetuned if a cutoff is applied [false]\n",
      "  -qnorm              whether the norm is quantized separately [false]\n",
      "  -qout               whether the classifier is quantized [false]\n",
      "  -dsub               size of each sub-vector [2]\n"
     ]
    }
   ],
   "source": [
    "!fasttext supervised"
   ]
  },
  {
   "cell_type": "code",
   "execution_count": 8,
   "metadata": {},
   "outputs": [
    {
     "name": "stderr",
     "output_type": "stream",
     "text": [
      "Read 0M words\n",
      "Number of words:  49052\n",
      "Number of labels: 4\n",
      "Progress: 100.0% words/sec/thread: 2275794 lr:  0.000000 avg.loss:  0.574699 ETA:   0h 0m 0s\n"
     ]
    },
    {
     "name": "stdout",
     "output_type": "stream",
     "text": [
      "sample_size=8626\n",
      "precision=1.0\n",
      "recall=1.0\n"
     ]
    }
   ],
   "source": [
    "model6 = fasttext.train_supervised(input=\"data/train.txt\", lr=0.5, epoch=25, wordNgrams=2, bucket=200000, dim=100, loss='ova')\n",
    "\n",
    "print_results(*model6.test('data/test.txt'))"
   ]
  },
  {
   "cell_type": "markdown",
   "metadata": {},
   "source": [
    "### f1 weighted and f1 macro"
   ]
  },
  {
   "cell_type": "code",
   "execution_count": 9,
   "metadata": {},
   "outputs": [],
   "source": [
    "from sklearn.metrics import f1_score"
   ]
  },
  {
   "cell_type": "code",
   "execution_count": 10,
   "metadata": {},
   "outputs": [],
   "source": [
    "texts = []\n",
    "true = []\n",
    "pred = []\n",
    "with open(\"data/test.txt\", \"r\") as fo:\n",
    "    for line in fo.readlines():\n",
    "        l = line.strip().split()\n",
    "        txt = \" \".join(l[1:])\n",
    "        texts.append(txt)\n",
    "        true.append(l[0].replace(\"__label__\", \"\"))\n",
    "        pred.append(model6.predict(txt)[0][0].replace(\"__label__\", \"\"))"
   ]
  },
  {
   "cell_type": "code",
   "execution_count": 11,
   "metadata": {},
   "outputs": [
    {
     "name": "stdout",
     "output_type": "stream",
     "text": [
      "F1 Score (Macro): 0.998\n",
      "F1 Score (Weighted): 0.998\n",
      "F1 Score: 0.998\n"
     ]
    }
   ],
   "source": [
    "f1_macro = f1_score(true, pred, average='macro')\n",
    "f1_weighted = f1_score(true, pred, average='weighted')\n",
    "f1 = f1_score(true, pred, average='micro')\n",
    "\n",
    "print(f\"F1 Score (Macro): {f1_macro:.3f}\")\n",
    "print(f\"F1 Score (Weighted): {f1_weighted:.3f}\")\n",
    "print(f\"F1 Score: {f1:.3f}\")"
   ]
  },
  {
   "cell_type": "code",
   "execution_count": 15,
   "metadata": {},
   "outputs": [],
   "source": [
    "from sklearn.metrics import confusion_matrix, classification_report, ConfusionMatrixDisplay\n",
    "import matplotlib.pyplot as plt"
   ]
  },
  {
   "cell_type": "code",
   "execution_count": 16,
   "metadata": {},
   "outputs": [
    {
     "name": "stdout",
     "output_type": "stream",
     "text": [
      "                        precision    recall  f1-score   support\n",
      "\n",
      "                 Books       1.00      1.00      1.00      1682\n",
      "Clothing_&_Accessories       1.00      1.00      1.00      1817\n",
      "           Electronics       1.00      1.00      1.00      1696\n",
      "             Household       1.00      1.00      1.00      3431\n",
      "\n",
      "              accuracy                           1.00      8626\n",
      "             macro avg       1.00      1.00      1.00      8626\n",
      "          weighted avg       1.00      1.00      1.00      8626\n",
      "\n"
     ]
    }
   ],
   "source": [
    "print(classification_report(true, pred))"
   ]
  },
  {
   "cell_type": "code",
   "execution_count": 17,
   "metadata": {},
   "outputs": [
    {
     "data": {
      "image/png": "[encoded data removed]",
      "text/plain": [
       "<Figure size 640x480 with 2 Axes>"
      ]
     },
     "metadata": {},
     "output_type": "display_data"
    }
   ],
   "source": [
    "cm = confusion_matrix(true, pred)\n",
    "\n",
    "disp = ConfusionMatrixDisplay(confusion_matrix=cm)\n",
    "disp.plot()\n",
    "plt.xticks(rotation=45)\n",
    "plt.show()"
   ]
  },
  {
   "cell_type": "code",
   "execution_count": 10,
   "metadata": {},
   "outputs": [],
   "source": [
    "# model5.quantize(input='data/train.txt', retrain=True)\n",
    "\n",
    "# model5 = fasttext.load_model(\"optimized.model\")\n",
    "\n",
    "# # Пример классификации одного заголовка\n",
    "# model5.predict(\"brand new xiaomi tv\")"
   ]
  }
 ],
 "metadata": {
  "kernelspec": {
   "display_name": "Python 3",
   "language": "python",
   "name": "python3"
  },
  "language_info": {
   "codemirror_mode": {
    "name": "ipython",
    "version": 3
   },
   "file_extension": ".py",
   "mimetype": "text/x-python",
   "name": "python",
   "nbconvert_exporter": "python",
   "pygments_lexer": "ipython3",
   "version": "3.10.5"
  }
 },
 "nbformat": 4,
 "nbformat_minor": 2
}
