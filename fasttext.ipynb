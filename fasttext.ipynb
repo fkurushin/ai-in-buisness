{
 "cells": [
  {
   "cell_type": "markdown",
   "metadata": {},
   "source": [
    "## fasttext"
   ]
  },
  {
   "cell_type": "code",
   "execution_count": 1,
   "metadata": {},
   "outputs": [],
   "source": [
    "import fasttext"
   ]
  },
  {
   "cell_type": "code",
   "execution_count": 2,
   "metadata": {},
   "outputs": [
    {
     "name": "stdout",
     "output_type": "stream",
     "text": [
      "sample_size=8626\n",
      "precision=0.61\n",
      "recall=0.61\n"
     ]
    },
    {
     "name": "stderr",
     "output_type": "stream",
     "text": [
      "Read 0M words\n",
      "Number of words:  49054\n",
      "Number of labels: 4\n",
      "Progress: 100.0% words/sec/thread: 3189573 lr:  0.000000 avg.loss:  0.928134 ETA:   0h 0m 0s\n"
     ]
    }
   ],
   "source": [
    "# Первая модель без оптимизации гиперпараметров\n",
    "model1 = fasttext.train_supervised('data/train.txt')\n",
    "\n",
    "def print_results(sample_size, precision, recall):\n",
    "    precision   = round(precision, 2)\n",
    "    recall      = round(recall, 2)\n",
    "    print(f'{sample_size=}')\n",
    "    print(f'{precision=}')\n",
    "    print(f'{recall=}')\n",
    "\n",
    "print_results(*model1.test('data/test.txt'))"
   ]
  },
  {
   "cell_type": "code",
   "execution_count": 3,
   "metadata": {},
   "outputs": [
    {
     "name": "stderr",
     "output_type": "stream",
     "text": [
      "Read 0M words\n",
      "Number of words:  49054\n",
      "Number of labels: 4\n",
      "Progress:  97.9% words/sec/thread: 5206655 lr:  0.002142 avg.loss:  0.541745 ETA:   0h 0m 0s"
     ]
    },
    {
     "name": "stdout",
     "output_type": "stream",
     "text": [
      "sample_size=8626\n",
      "precision=0.94\n",
      "recall=0.94\n"
     ]
    },
    {
     "name": "stderr",
     "output_type": "stream",
     "text": [
      "Progress: 100.0% words/sec/thread: 3990527 lr:  0.000000 avg.loss:  0.533452 ETA:   0h 0m 0s\n"
     ]
    }
   ],
   "source": [
    "model2 = fasttext.train_supervised('data/train.txt', epoch=25)\n",
    "\n",
    "print_results(*model2.test('data/test.txt'))"
   ]
  },
  {
   "cell_type": "code",
   "execution_count": 4,
   "metadata": {},
   "outputs": [
    {
     "name": "stderr",
     "output_type": "stream",
     "text": [
      "Read 0M words\n",
      "Number of words:  49054\n",
      "Number of labels: 4\n",
      "Progress:  93.9% words/sec/thread: 5688488 lr:  0.061278 avg.loss:  0.465680 ETA:   0h 0m 0s"
     ]
    },
    {
     "name": "stdout",
     "output_type": "stream",
     "text": [
      "sample_size=8626\n",
      "precision=0.97\n",
      "recall=0.97\n"
     ]
    },
    {
     "name": "stderr",
     "output_type": "stream",
     "text": [
      "Progress: 100.0% words/sec/thread: 3138530 lr:  0.000000 avg.loss:  0.459006 ETA:   0h 0m 0s\n"
     ]
    }
   ],
   "source": [
    "model3 = fasttext.train_supervised('data/train.txt', epoch=10, lr=1.0)\n",
    "\n",
    "print_results(*model3.test('data/test.txt'))"
   ]
  },
  {
   "cell_type": "code",
   "execution_count": 5,
   "metadata": {},
   "outputs": [
    {
     "name": "stderr",
     "output_type": "stream",
     "text": [
      "Read 0M words\n",
      "Number of words:  49054\n",
      "Number of labels: 4\n",
      "Progress:  81.0% words/sec/thread: 2562214 lr:  0.189795 avg.loss:  0.333755 ETA:   0h 0m 0s"
     ]
    },
    {
     "name": "stdout",
     "output_type": "stream",
     "text": [
      "sample_size=8626\n",
      "precision=0.99\n",
      "recall=0.99\n"
     ]
    },
    {
     "name": "stderr",
     "output_type": "stream",
     "text": [
      "Progress: 100.0% words/sec/thread: 2125213 lr:  0.000000 avg.loss:  0.282328 ETA:   0h 0m 0s\n"
     ]
    }
   ],
   "source": [
    "model4 = fasttext.train_supervised('data/train.txt', epoch=10, lr=1.0, wordNgrams=2)\n",
    "\n",
    "print_results(*model4.test('data/test.txt'))"
   ]
  },
  {
   "cell_type": "code",
   "execution_count": 6,
   "metadata": {},
   "outputs": [
    {
     "name": "stderr",
     "output_type": "stream",
     "text": [
      "Progress: 100.0% Trials:  199 Best score:  1.000000 ETA:   0h 0m 0s\n",
      "Training again with best arguments\n",
      "Read 0M words\n",
      "Number of words:  49054\n",
      "Number of labels: 4\n",
      "Progress:  78.8% words/sec/thread: 7177229 lr:  0.125785 avg.loss:  0.068137 ETA:   0h 0m 0s"
     ]
    },
    {
     "name": "stdout",
     "output_type": "stream",
     "text": [
      "sample_size=8626\n",
      "precision=1.0\n",
      "recall=1.0\n"
     ]
    },
    {
     "name": "stderr",
     "output_type": "stream",
     "text": [
      "Progress: 100.0% words/sec/thread: 7047846 lr:  0.000000 avg.loss:  0.052985 ETA:   0h 0m 0s\n"
     ]
    }
   ],
   "source": [
    "model5 = fasttext.train_supervised('data/train.txt', autotuneValidationFile='data/test.txt')\n",
    "\n",
    "print_results(*model5.test('data/test.txt'))"
   ]
  },
  {
   "cell_type": "code",
   "execution_count": null,
   "metadata": {},
   "outputs": [],
   "source": [
    "# можем сами посчитьа f1 weighted and f1 macro"
   ]
  },
  {
   "cell_type": "code",
   "execution_count": 7,
   "metadata": {},
   "outputs": [
    {
     "ename": "",
     "evalue": "",
     "output_type": "error",
     "traceback": [
      "\u001b[1;31mThe Kernel crashed while executing code in the the current cell or a previous cell. Please review the code in the cell(s) to identify a possible cause of the failure. Click <a href='https://aka.ms/vscodeJupyterKernelCrash'>here</a> for more info. View Jupyter <a href='command:jupyter.viewOutput'>log</a> for further details."
     ]
    }
   ],
   "source": [
    "# model6 = fasttext.train_supervised('data/train.txt', autotuneValidationFile='data/test.txt', autotuneMetric=\"f1:__label__household\")\n",
    "\n",
    "# print_results(*model6.test('data/test.txt'))"
   ]
  },
  {
   "cell_type": "code",
   "execution_count": 19,
   "metadata": {},
   "outputs": [
    {
     "name": "stdout",
     "output_type": "stream",
     "text": [
      "sample_size=2000000\n",
      "precision=1.0\n",
      "recall=0.79\n"
     ]
    }
   ],
   "source": [
    "print_results(*model5.test('data/test.txt', threshold=0.99))"
   ]
  },
  {
   "cell_type": "code",
   "execution_count": 20,
   "metadata": {},
   "outputs": [],
   "source": [
    "model5.save_model('optimized.model')"
   ]
  },
  {
   "cell_type": "code",
   "execution_count": 10,
   "metadata": {},
   "outputs": [],
   "source": [
    "model5.quantize(input='data/train.txt', retrain=True)\n",
    "\n",
    "model = fasttext.load_model(\"optimized.model\")\n",
    "\n",
    "# Пример классификации одного заголовка\n",
    "model.predict(\"brand new xiaomi tv\")"
   ]
  }
 ],
 "metadata": {
  "kernelspec": {
   "display_name": "Python 3",
   "language": "python",
   "name": "python3"
  },
  "language_info": {
   "codemirror_mode": {
    "name": "ipython",
    "version": 3
   },
   "file_extension": ".py",
   "mimetype": "text/x-python",
   "name": "python",
   "nbconvert_exporter": "python",
   "pygments_lexer": "ipython3",
   "version": "3.10.5"
  }
 },
 "nbformat": 4,
 "nbformat_minor": 2
}
