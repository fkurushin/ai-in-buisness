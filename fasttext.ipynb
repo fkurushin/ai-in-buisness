{
 "cells": [
  {
   "cell_type": "code",
   "execution_count": 1,
   "metadata": {},
   "outputs": [],
   "source": [
    "import fasttext"
   ]
  },
  {
   "cell_type": "code",
   "execution_count": 2,
   "metadata": {},
   "outputs": [
    {
     "name": "stdout",
     "output_type": "stream",
     "text": [
      "[nltk_data] Downloading package averaged_perceptron_tagger to\n",
      "[nltk_data]     /Users/fedorkurusin/nltk_data...\n",
      "[nltk_data]   Package averaged_perceptron_tagger is already up-to-\n",
      "[nltk_data]       date!\n",
      "[nltk_data] Downloading package wordnet to\n",
      "[nltk_data]     /Users/fedorkurusin/nltk_data...\n",
      "[nltk_data]   Package wordnet is already up-to-date!\n",
      "\n",
      "shape: (50425, 2)\n",
      "\n",
      "percrentiles 2%: 5.0, 97%: 368.0\n",
      "\n",
      "100%|████████████████████████████████████| 47260/47260 [01:16<00:00, 615.76it/s]\n",
      "\n",
      "End of processing shape: (26137, 2)\n",
      "\n",
      "write files for fasttext training in data/train.txt and data/test.txt\n",
      "\n"
     ]
    }
   ],
   "source": [
    "!python3 preparation.py"
   ]
  },
  {
   "cell_type": "code",
   "execution_count": 3,
   "metadata": {},
   "outputs": [
    {
     "name": "stdout",
     "output_type": "stream",
     "text": [
      "sample_size=6809\n",
      "precision=0.51\n",
      "recall=0.51\n"
     ]
    },
    {
     "name": "stderr",
     "output_type": "stream",
     "text": [
      "Read 0M words\n",
      "Number of words:  49054\n",
      "Number of labels: 4\n",
      "Progress: 100.0% words/sec/thread: 3245196 lr:  0.000000 avg.loss:  0.993234 ETA:   0h 0m 0s\n"
     ]
    }
   ],
   "source": [
    "model1 = fasttext.train_supervised('data/train.txt')\n",
    "\n",
    "def print_results(sample_size, precision, recall):\n",
    "    precision   = round(precision, 2)\n",
    "    recall      = round(recall, 2)\n",
    "    print(f'{sample_size=}')\n",
    "    print(f'{precision=}')\n",
    "    print(f'{recall=}')\n",
    "\n",
    "print_results(*model1.test('data/test.txt'))"
   ]
  },
  {
   "cell_type": "code",
   "execution_count": 4,
   "metadata": {},
   "outputs": [
    {
     "name": "stderr",
     "output_type": "stream",
     "text": [
      "Read 0M words\n",
      "Number of words:  49054\n",
      "Number of labels: 4\n",
      "Progress:  96.4% words/sec/thread: 5169037 lr:  0.003581 avg.loss:  0.586790 ETA:   0h 0m 0s"
     ]
    },
    {
     "name": "stdout",
     "output_type": "stream",
     "text": [
      "sample_size=6809\n",
      "precision=0.93\n",
      "recall=0.93\n"
     ]
    },
    {
     "name": "stderr",
     "output_type": "stream",
     "text": [
      "Progress: 100.0% words/sec/thread: 4012654 lr:  0.000000 avg.loss:  0.575986 ETA:   0h 0m 0s\n"
     ]
    }
   ],
   "source": [
    "model2 = fasttext.train_supervised('data/train.txt', epoch=25)\n",
    "\n",
    "print_results(*model2.test('data/test.txt'))"
   ]
  },
  {
   "cell_type": "code",
   "execution_count": 5,
   "metadata": {},
   "outputs": [
    {
     "name": "stderr",
     "output_type": "stream",
     "text": [
      "Read 0M words\n",
      "Number of words:  49054\n",
      "Number of labels: 4\n",
      "Progress:  88.0% words/sec/thread: 5621662 lr:  0.119709 avg.loss:  0.529208 ETA:   0h 0m 0s"
     ]
    },
    {
     "name": "stdout",
     "output_type": "stream",
     "text": [
      "sample_size=6809\n",
      "precision=0.95\n",
      "recall=0.95\n"
     ]
    },
    {
     "name": "stderr",
     "output_type": "stream",
     "text": [
      "Progress: 100.0% words/sec/thread: 3247825 lr:  0.000000 avg.loss:  0.493704 ETA:   0h 0m 0s\n"
     ]
    }
   ],
   "source": [
    "model3 = fasttext.train_supervised('data/train.txt', epoch=10, lr=1.0)\n",
    "\n",
    "print_results(*model3.test('data/test.txt'))"
   ]
  },
  {
   "cell_type": "code",
   "execution_count": 6,
   "metadata": {},
   "outputs": [
    {
     "name": "stderr",
     "output_type": "stream",
     "text": [
      "Read 0M words\n",
      "Number of words:  49054\n",
      "Number of labels: 4\n",
      "Progress:  87.4% words/sec/thread: 2828153 lr:  0.126280 avg.loss:  0.334200 ETA:   0h 0m 0s"
     ]
    },
    {
     "name": "stdout",
     "output_type": "stream",
     "text": [
      "sample_size=6809\n",
      "precision=0.99\n",
      "recall=0.99\n"
     ]
    },
    {
     "name": "stderr",
     "output_type": "stream",
     "text": [
      "Progress: 100.0% words/sec/thread: 2148141 lr:  0.000000 avg.loss:  0.297725 ETA:   0h 0m 0s\n"
     ]
    }
   ],
   "source": [
    "model4 = fasttext.train_supervised('data/train.txt', epoch=10, lr=1.0, wordNgrams=2)\n",
    "\n",
    "print_results(*model4.test('data/test.txt'))"
   ]
  },
  {
   "cell_type": "code",
   "execution_count": 9,
   "metadata": {},
   "outputs": [
    {
     "name": "stderr",
     "output_type": "stream",
     "text": [
      "Progress: 100.0% Trials:  205 Best score:  1.000000 ETA:   0h 0m 0s\n",
      "Training again with best arguments\n",
      "Read 0M words\n",
      "Number of words:  49054\n",
      "Number of labels: 4\n",
      "Progress:  82.9% words/sec/thread: 6560391 lr:  0.101797 avg.loss:  0.066278 ETA:   0h 0m 0s"
     ]
    },
    {
     "name": "stdout",
     "output_type": "stream",
     "text": [
      "sample_size=6809\n",
      "precision=1.0\n",
      "recall=1.0\n"
     ]
    },
    {
     "name": "stderr",
     "output_type": "stream",
     "text": [
      "Progress: 100.0% words/sec/thread: 6343108 lr:  0.000000 avg.loss:  0.055880 ETA:   0h 0m 0s\n"
     ]
    }
   ],
   "source": [
    "model5 = fasttext.train_supervised('data/train.txt', autotuneValidationFile='data/test.txt')\n",
    "\n",
    "print_results(*model5.test('data/test.txt'))"
   ]
  },
  {
   "cell_type": "code",
   "execution_count": 10,
   "metadata": {},
   "outputs": [],
   "source": [
    "# model6 = fasttext.train_supervised('data/train.txt', autotuneValidationFile='data/test.txt', autotuneMetric=\"f1:__label__household\")\n",
    "\n",
    "# print_results(*model6.test('data/test.txt'))"
   ]
  },
  {
   "cell_type": "code",
   "execution_count": 16,
   "metadata": {},
   "outputs": [
    {
     "name": "stdout",
     "output_type": "stream",
     "text": [
      "sample_size=6809\n",
      "precision=1.0\n",
      "recall=0.97\n"
     ]
    }
   ],
   "source": [
    "print_results(*model5.test('data/test.txt', threshold=0.99))"
   ]
  },
  {
   "cell_type": "code",
   "execution_count": 17,
   "metadata": {},
   "outputs": [],
   "source": [
    "model5.save_model('optimized.model')"
   ]
  },
  {
   "cell_type": "markdown",
   "metadata": {},
   "source": [
    "### f1 weighted and f1 macro"
   ]
  },
  {
   "cell_type": "code",
   "execution_count": 35,
   "metadata": {},
   "outputs": [],
   "source": [
    "from sklearn.metrics import f1_score"
   ]
  },
  {
   "cell_type": "code",
   "execution_count": 43,
   "metadata": {},
   "outputs": [],
   "source": [
    "texts = []\n",
    "true = []\n",
    "pred = []\n",
    "with open(\"data/test.txt\", \"r\") as fo:\n",
    "    for line in fo.readlines():\n",
    "        l = line.strip()\n",
    "        txt = \" \".join(l.split()[1:])\n",
    "        texts.append(txt)\n",
    "        true.append(l.split()[0].replace(\"__label__\", \"\"))\n",
    "        pred.append(model5.predict(txt)[0][0].replace(\"__label__\", \"\"))"
   ]
  },
  {
   "cell_type": "code",
   "execution_count": 46,
   "metadata": {},
   "outputs": [
    {
     "name": "stdout",
     "output_type": "stream",
     "text": [
      "F1 Score (Macro): 0.535\n",
      "F1 Score (Weighted): 0.697\n"
     ]
    }
   ],
   "source": [
    "f1_macro = f1_score(true, pred, average='macro')\n",
    "f1_weighted = f1_score(true, pred, average='weighted')\n",
    "\n",
    "print(f\"F1 Score (Macro): {f1_macro:.3f}\")\n",
    "print(f\"F1 Score (Weighted): {f1_weighted:.3f}\")"
   ]
  },
  {
   "cell_type": "code",
   "execution_count": 10,
   "metadata": {},
   "outputs": [],
   "source": [
    "# model5.quantize(input='data/train.txt', retrain=True)\n",
    "\n",
    "# model5 = fasttext.load_model(\"optimized.model\")\n",
    "\n",
    "# # Пример классификации одного заголовка\n",
    "# model5.predict(\"brand new xiaomi tv\")"
   ]
  }
 ],
 "metadata": {
  "kernelspec": {
   "display_name": "Python 3",
   "language": "python",
   "name": "python3"
  },
  "language_info": {
   "codemirror_mode": {
    "name": "ipython",
    "version": 3
   },
   "file_extension": ".py",
   "mimetype": "text/x-python",
   "name": "python",
   "nbconvert_exporter": "python",
   "pygments_lexer": "ipython3",
   "version": "3.10.5"
  }
 },
 "nbformat": 4,
 "nbformat_minor": 2
}
